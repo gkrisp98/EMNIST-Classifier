{
  "nbformat": 4,
  "nbformat_minor": 0,
  "metadata": {
    "colab": {
      "name": "EMNIST Classifier.ipynb",
      "provenance": [],
      "authorship_tag": "ABX9TyPzEc2XqVXaqNOG66/iIH1g",
      "include_colab_link": true
    },
    "kernelspec": {
      "name": "python3",
      "display_name": "Python 3"
    },
    "language_info": {
      "name": "python"
    },
    "widgets": {
      "application/vnd.jupyter.widget-state+json": {
        "c94b0d0e73c942568e36472f0a4b30f5": {
          "model_module": "@jupyter-widgets/controls",
          "model_name": "HBoxModel",
          "model_module_version": "1.5.0",
          "state": {
            "_view_name": "HBoxView",
            "_dom_classes": [],
            "_model_name": "HBoxModel",
            "_view_module": "@jupyter-widgets/controls",
            "_model_module_version": "1.5.0",
            "_view_count": null,
            "_view_module_version": "1.5.0",
            "box_style": "",
            "layout": "IPY_MODEL_8da25b2213554a6788ca4e4d883259d4",
            "_model_module": "@jupyter-widgets/controls",
            "children": [
              "IPY_MODEL_9797668546704552b0f6e59a4d56266b",
              "IPY_MODEL_0989cccea0524b8fb1c16fed6468c88a",
              "IPY_MODEL_803ff3cde9fe4cd08ad6761bdd215e2e"
            ]
          }
        },
        "8da25b2213554a6788ca4e4d883259d4": {
          "model_module": "@jupyter-widgets/base",
          "model_name": "LayoutModel",
          "model_module_version": "1.2.0",
          "state": {
            "_view_name": "LayoutView",
            "grid_template_rows": null,
            "right": null,
            "justify_content": null,
            "_view_module": "@jupyter-widgets/base",
            "overflow": null,
            "_model_module_version": "1.2.0",
            "_view_count": null,
            "flex_flow": null,
            "width": null,
            "min_width": null,
            "border": null,
            "align_items": null,
            "bottom": null,
            "_model_module": "@jupyter-widgets/base",
            "top": null,
            "grid_column": null,
            "overflow_y": null,
            "overflow_x": null,
            "grid_auto_flow": null,
            "grid_area": null,
            "grid_template_columns": null,
            "flex": null,
            "_model_name": "LayoutModel",
            "justify_items": null,
            "grid_row": null,
            "max_height": null,
            "align_content": null,
            "visibility": null,
            "align_self": null,
            "height": null,
            "min_height": null,
            "padding": null,
            "grid_auto_rows": null,
            "grid_gap": null,
            "max_width": null,
            "order": null,
            "_view_module_version": "1.2.0",
            "grid_template_areas": null,
            "object_position": null,
            "object_fit": null,
            "grid_auto_columns": null,
            "margin": null,
            "display": null,
            "left": null
          }
        },
        "9797668546704552b0f6e59a4d56266b": {
          "model_module": "@jupyter-widgets/controls",
          "model_name": "HTMLModel",
          "model_module_version": "1.5.0",
          "state": {
            "_view_name": "HTMLView",
            "style": "IPY_MODEL_8f9c833bcbe94ddc8a7499550d31a8fa",
            "_dom_classes": [],
            "description": "",
            "_model_name": "HTMLModel",
            "placeholder": "​",
            "_view_module": "@jupyter-widgets/controls",
            "_model_module_version": "1.5.0",
            "value": "",
            "_view_count": null,
            "_view_module_version": "1.5.0",
            "description_tooltip": null,
            "_model_module": "@jupyter-widgets/controls",
            "layout": "IPY_MODEL_aa504029a9bb45f9bda95f170361792f"
          }
        },
        "0989cccea0524b8fb1c16fed6468c88a": {
          "model_module": "@jupyter-widgets/controls",
          "model_name": "FloatProgressModel",
          "model_module_version": "1.5.0",
          "state": {
            "_view_name": "ProgressView",
            "style": "IPY_MODEL_5b6e3a5890134279ba6f5b08b781bbc9",
            "_dom_classes": [],
            "description": "",
            "_model_name": "FloatProgressModel",
            "bar_style": "success",
            "max": 561753746,
            "_view_module": "@jupyter-widgets/controls",
            "_model_module_version": "1.5.0",
            "value": 561753746,
            "_view_count": null,
            "_view_module_version": "1.5.0",
            "orientation": "horizontal",
            "min": 0,
            "description_tooltip": null,
            "_model_module": "@jupyter-widgets/controls",
            "layout": "IPY_MODEL_398ebbdd2de549de98ef360aa1a18fe2"
          }
        },
        "803ff3cde9fe4cd08ad6761bdd215e2e": {
          "model_module": "@jupyter-widgets/controls",
          "model_name": "HTMLModel",
          "model_module_version": "1.5.0",
          "state": {
            "_view_name": "HTMLView",
            "style": "IPY_MODEL_0b9140fd0481438eb76e96f8eca6064f",
            "_dom_classes": [],
            "description": "",
            "_model_name": "HTMLModel",
            "placeholder": "​",
            "_view_module": "@jupyter-widgets/controls",
            "_model_module_version": "1.5.0",
            "value": " 561754112/? [00:09&lt;00:00, 60072498.65it/s]",
            "_view_count": null,
            "_view_module_version": "1.5.0",
            "description_tooltip": null,
            "_model_module": "@jupyter-widgets/controls",
            "layout": "IPY_MODEL_63ae975738aa4db6b0101de7aec62f90"
          }
        },
        "8f9c833bcbe94ddc8a7499550d31a8fa": {
          "model_module": "@jupyter-widgets/controls",
          "model_name": "DescriptionStyleModel",
          "model_module_version": "1.5.0",
          "state": {
            "_view_name": "StyleView",
            "_model_name": "DescriptionStyleModel",
            "description_width": "",
            "_view_module": "@jupyter-widgets/base",
            "_model_module_version": "1.5.0",
            "_view_count": null,
            "_view_module_version": "1.2.0",
            "_model_module": "@jupyter-widgets/controls"
          }
        },
        "aa504029a9bb45f9bda95f170361792f": {
          "model_module": "@jupyter-widgets/base",
          "model_name": "LayoutModel",
          "model_module_version": "1.2.0",
          "state": {
            "_view_name": "LayoutView",
            "grid_template_rows": null,
            "right": null,
            "justify_content": null,
            "_view_module": "@jupyter-widgets/base",
            "overflow": null,
            "_model_module_version": "1.2.0",
            "_view_count": null,
            "flex_flow": null,
            "width": null,
            "min_width": null,
            "border": null,
            "align_items": null,
            "bottom": null,
            "_model_module": "@jupyter-widgets/base",
            "top": null,
            "grid_column": null,
            "overflow_y": null,
            "overflow_x": null,
            "grid_auto_flow": null,
            "grid_area": null,
            "grid_template_columns": null,
            "flex": null,
            "_model_name": "LayoutModel",
            "justify_items": null,
            "grid_row": null,
            "max_height": null,
            "align_content": null,
            "visibility": null,
            "align_self": null,
            "height": null,
            "min_height": null,
            "padding": null,
            "grid_auto_rows": null,
            "grid_gap": null,
            "max_width": null,
            "order": null,
            "_view_module_version": "1.2.0",
            "grid_template_areas": null,
            "object_position": null,
            "object_fit": null,
            "grid_auto_columns": null,
            "margin": null,
            "display": null,
            "left": null
          }
        },
        "5b6e3a5890134279ba6f5b08b781bbc9": {
          "model_module": "@jupyter-widgets/controls",
          "model_name": "ProgressStyleModel",
          "model_module_version": "1.5.0",
          "state": {
            "_view_name": "StyleView",
            "_model_name": "ProgressStyleModel",
            "description_width": "",
            "_view_module": "@jupyter-widgets/base",
            "_model_module_version": "1.5.0",
            "_view_count": null,
            "_view_module_version": "1.2.0",
            "bar_color": null,
            "_model_module": "@jupyter-widgets/controls"
          }
        },
        "398ebbdd2de549de98ef360aa1a18fe2": {
          "model_module": "@jupyter-widgets/base",
          "model_name": "LayoutModel",
          "model_module_version": "1.2.0",
          "state": {
            "_view_name": "LayoutView",
            "grid_template_rows": null,
            "right": null,
            "justify_content": null,
            "_view_module": "@jupyter-widgets/base",
            "overflow": null,
            "_model_module_version": "1.2.0",
            "_view_count": null,
            "flex_flow": null,
            "width": null,
            "min_width": null,
            "border": null,
            "align_items": null,
            "bottom": null,
            "_model_module": "@jupyter-widgets/base",
            "top": null,
            "grid_column": null,
            "overflow_y": null,
            "overflow_x": null,
            "grid_auto_flow": null,
            "grid_area": null,
            "grid_template_columns": null,
            "flex": null,
            "_model_name": "LayoutModel",
            "justify_items": null,
            "grid_row": null,
            "max_height": null,
            "align_content": null,
            "visibility": null,
            "align_self": null,
            "height": null,
            "min_height": null,
            "padding": null,
            "grid_auto_rows": null,
            "grid_gap": null,
            "max_width": null,
            "order": null,
            "_view_module_version": "1.2.0",
            "grid_template_areas": null,
            "object_position": null,
            "object_fit": null,
            "grid_auto_columns": null,
            "margin": null,
            "display": null,
            "left": null
          }
        },
        "0b9140fd0481438eb76e96f8eca6064f": {
          "model_module": "@jupyter-widgets/controls",
          "model_name": "DescriptionStyleModel",
          "model_module_version": "1.5.0",
          "state": {
            "_view_name": "StyleView",
            "_model_name": "DescriptionStyleModel",
            "description_width": "",
            "_view_module": "@jupyter-widgets/base",
            "_model_module_version": "1.5.0",
            "_view_count": null,
            "_view_module_version": "1.2.0",
            "_model_module": "@jupyter-widgets/controls"
          }
        },
        "63ae975738aa4db6b0101de7aec62f90": {
          "model_module": "@jupyter-widgets/base",
          "model_name": "LayoutModel",
          "model_module_version": "1.2.0",
          "state": {
            "_view_name": "LayoutView",
            "grid_template_rows": null,
            "right": null,
            "justify_content": null,
            "_view_module": "@jupyter-widgets/base",
            "overflow": null,
            "_model_module_version": "1.2.0",
            "_view_count": null,
            "flex_flow": null,
            "width": null,
            "min_width": null,
            "border": null,
            "align_items": null,
            "bottom": null,
            "_model_module": "@jupyter-widgets/base",
            "top": null,
            "grid_column": null,
            "overflow_y": null,
            "overflow_x": null,
            "grid_auto_flow": null,
            "grid_area": null,
            "grid_template_columns": null,
            "flex": null,
            "_model_name": "LayoutModel",
            "justify_items": null,
            "grid_row": null,
            "max_height": null,
            "align_content": null,
            "visibility": null,
            "align_self": null,
            "height": null,
            "min_height": null,
            "padding": null,
            "grid_auto_rows": null,
            "grid_gap": null,
            "max_width": null,
            "order": null,
            "_view_module_version": "1.2.0",
            "grid_template_areas": null,
            "object_position": null,
            "object_fit": null,
            "grid_auto_columns": null,
            "margin": null,
            "display": null,
            "left": null
          }
        }
      }
    }
  },
  "cells": [
    {
      "cell_type": "markdown",
      "metadata": {
        "id": "view-in-github",
        "colab_type": "text"
      },
      "source": [
        "<a href=\"https://colab.research.google.com/github/gkrisp98/EMNIST-Classifier/blob/main/EMNIST_Classifier.ipynb\" target=\"_parent\"><img src=\"https://colab.research.google.com/assets/colab-badge.svg\" alt=\"Open In Colab\"/></a>"
      ]
    },
    {
      "cell_type": "code",
      "metadata": {
        "id": "wGRkKfulApDV"
      },
      "source": [
        "import torch \n",
        "import torch.nn as nn\n",
        "import torch.optim as optim\n",
        "import torch.nn.functional as F\n",
        "import torchvision\n",
        "import torchvision.transforms as transforms\n",
        "from torch.utils.tensorboard import SummaryWriter\n",
        "\n",
        "from torch.utils.data import DataLoader, random_split\n",
        "import matplotlib.pyplot as plt\n"
      ],
      "execution_count": 1,
      "outputs": []
    },
    {
      "cell_type": "code",
      "metadata": {
        "colab": {
          "base_uri": "https://localhost:8080/",
          "height": 137,
          "referenced_widgets": [
            "c94b0d0e73c942568e36472f0a4b30f5",
            "8da25b2213554a6788ca4e4d883259d4",
            "9797668546704552b0f6e59a4d56266b",
            "0989cccea0524b8fb1c16fed6468c88a",
            "803ff3cde9fe4cd08ad6761bdd215e2e",
            "8f9c833bcbe94ddc8a7499550d31a8fa",
            "aa504029a9bb45f9bda95f170361792f",
            "5b6e3a5890134279ba6f5b08b781bbc9",
            "398ebbdd2de549de98ef360aa1a18fe2",
            "0b9140fd0481438eb76e96f8eca6064f",
            "63ae975738aa4db6b0101de7aec62f90"
          ]
        },
        "id": "H4nzO91_BCQj",
        "outputId": "fdd43634-285b-43cd-ac41-0a9a933f67a3"
      },
      "source": [
        "#LOAD DATA\n",
        "data = torchvision.datasets.EMNIST(root = './data/EMNIST', split = 'digits', download = True, train = True, \n",
        "                                   transform=transforms.Compose([transforms.ToTensor()]))"
      ],
      "execution_count": 3,
      "outputs": [
        {
          "output_type": "stream",
          "name": "stdout",
          "text": [
            "Downloading https://www.itl.nist.gov/iaui/vip/cs_links/EMNIST/gzip.zip to ./data/EMNIST/EMNIST/raw/gzip.zip\n"
          ]
        },
        {
          "output_type": "display_data",
          "data": {
            "application/vnd.jupyter.widget-view+json": {
              "model_id": "c94b0d0e73c942568e36472f0a4b30f5",
              "version_minor": 0,
              "version_major": 2
            },
            "text/plain": [
              "  0%|          | 0/561753746 [00:00<?, ?it/s]"
            ]
          },
          "metadata": {}
        },
        {
          "output_type": "stream",
          "name": "stdout",
          "text": [
            "Extracting ./data/EMNIST/EMNIST/raw/gzip.zip to ./data/EMNIST/EMNIST/raw\n"
          ]
        },
        {
          "output_type": "stream",
          "name": "stderr",
          "text": [
            "/usr/local/lib/python3.7/dist-packages/torchvision/datasets/mnist.py:498: UserWarning: The given NumPy array is not writeable, and PyTorch does not support non-writeable tensors. This means you can write to the underlying (supposedly non-writeable) NumPy array using the tensor. You may want to copy the array to protect its data or make it writeable before converting it to a tensor. This type of warning will be suppressed for the rest of this program. (Triggered internally at  /pytorch/torch/csrc/utils/tensor_numpy.cpp:180.)\n",
            "  return torch.from_numpy(parsed.astype(m[2], copy=False)).view(*s)\n"
          ]
        }
      ]
    },
    {
      "cell_type": "code",
      "metadata": {
        "id": "WaiXQ_1REbZS"
      },
      "source": [
        "#SPLIT TRAINING AND VALIDATION SET\n",
        "\n",
        "train_size = int(0.8*len(data))\n",
        "valid_size = int(0.2*len(data))\n",
        "\n",
        "train_set, valid_set = random_split(data, [train_size, valid_size])"
      ],
      "execution_count": 18,
      "outputs": []
    },
    {
      "cell_type": "code",
      "metadata": {
        "id": "zE8xKBPzE5WY"
      },
      "source": [
        "#NEURAL NETWORK MODEL\n",
        "class Network(nn.Module):\n",
        "  def __init__(self):\n",
        "    super().__init__()\n",
        "    self.conv1 = nn.Conv2d(in_channels=1, out_channels=6, kernel_size=3)\n",
        "    self.conv2 = nn.Conv2d(in_channels=6, out_channels=16, kernel_size=3)\n",
        "    \n",
        "    self.fc1 = nn.Linear(in_features=4*4*16, out_features=500)\n",
        "    self.out = nn.Linear(in_features=500, out_features=10)\n",
        "\n",
        "  def forward(self, t):\n",
        "    #hidden conv layer 1, channel=6\n",
        "    t = self.conv1(t)\n",
        "    t = F.relu(t)\n",
        "    t = F.max_pool2d(t, kernel_size=2, stride=2)\n",
        "\n",
        "    #hidden conv layer 2, channel=16\n",
        "    t = self.conv2(t)\n",
        "    t = F.relu(t)\n",
        "    t = F.max_pool2d(t, kernel_size=2, stride=3)\n",
        "\n",
        "    #hidden linear layer 1\n",
        "    t = t.reshape(-1,4*4*16)\n",
        "    t = self.fc1(t)\n",
        "    t = F.relu(t)\n",
        "\n",
        "    t = self.out(t)\n",
        "    t = F.softmax(t, dim=1)\n",
        "\n",
        "    return t"
      ],
      "execution_count": 31,
      "outputs": []
    },
    {
      "cell_type": "code",
      "metadata": {
        "id": "B0F1p4YjIL9u"
      },
      "source": [
        "#TRAIN LOADER\n",
        "train_loader = DataLoader(train_set, batch_size=128, shuffle = True)\n",
        "train_data = next(iter(train_loader))\n",
        "#VALID LOADER\n",
        "valid_loader = DataLoader(valid_set, batch_size = 64, shuffle = True)\n",
        "valid_data = next(iter(valid_loader))"
      ],
      "execution_count": 24,
      "outputs": []
    },
    {
      "cell_type": "code",
      "metadata": {
        "id": "0omCAD_dIdCh"
      },
      "source": [
        "def get_num_correct(preds,labels):\n",
        "  return preds.argmax(dim=1).eq(labels).sum().item()"
      ],
      "execution_count": 25,
      "outputs": []
    },
    {
      "cell_type": "code",
      "metadata": {
        "colab": {
          "base_uri": "https://localhost:8080/"
        },
        "id": "9wRaYjOaIuIu",
        "outputId": "2116e815-188d-4775-fce3-2d6d5abe1d60"
      },
      "source": [
        "#TRAINING AND VALIDATION LOOP\n",
        "model = Network()\n",
        "optimizer = torch.optim.SGD(model.parameters(), lr = 0.01)\n",
        "\n",
        "from torch.utils.tensorboard import SummaryWriter\n",
        "torch.set_printoptions(linewidth=120)\n",
        "writer = SummaryWriter()\n",
        "\n",
        "for epoch in range(10):\n",
        "\n",
        "  train_loss = 0\n",
        "  train_correct = 0\n",
        "  model.train()\n",
        "  for batch in train_loader:\n",
        "    images, labels = batch\n",
        "\n",
        "    preds = model(images)\n",
        "    loss = F.cross_entropy(preds, labels)\n",
        "\n",
        "    optimizer.zero_grad()\n",
        "    loss.backward()\n",
        "    optimizer.step()\n",
        "\n",
        "    train_loss += loss.item()\n",
        "    train_correct += get_num_correct(preds, labels)\n",
        "    writer.add_scalar('Train Loss', train_loss, epoch)\n",
        "    writer.add_scalar('Train Accuracy', train_correct/len(train_set), epoch)\n",
        "\n",
        "  valid_loss = 0\n",
        "  valid_correct = 0\n",
        "  model.eval()\n",
        "  for batch in valid_loader:\n",
        "    images, labels = batch\n",
        "    preds = model(images)\n",
        "    loss = F.cross_entropy(preds, labels)\n",
        "\n",
        "    valid_loss += loss.item()\n",
        "    valid_correct += get_num_correct(preds, labels)\n",
        "    writer.add_scalar('Valid Loss', valid_loss, epoch)\n",
        "    writer.add_scalar('Validation Accuracy', valid_correct/len(valid_set), epoch)\n",
        "\n",
        "  print(\"epoch:\", epoch, \"training loss:\", train_loss, \"training correct:\", train_correct\n",
        "        , \"valid loss:\", valid_loss, \"valid correct\", valid_correct)"
      ],
      "execution_count": 27,
      "outputs": [
        {
          "output_type": "stream",
          "name": "stderr",
          "text": [
            "/usr/local/lib/python3.7/dist-packages/torch/nn/functional.py:718: UserWarning: Named tensors and all their associated APIs are an experimental feature and subject to change. Please do not use them for anything important until they are released as stable. (Triggered internally at  /pytorch/c10/core/TensorImpl.h:1156.)\n",
            "  return torch.max_pool2d(input, kernel_size, stride, padding, dilation, ceil_mode)\n"
          ]
        },
        {
          "output_type": "stream",
          "name": "stdout",
          "text": [
            "epoch: 0 training loss: 3452.5621967315674 training correct: 34733 valid loss: 1725.575014591217 valid correct 11769\n",
            "epoch: 1 training loss: 3447.652743577957 training correct: 73099 valid loss: 1720.5486121177673 valid correct 20840\n",
            "epoch: 2 training loss: 3254.1845713853836 training correct: 76655 valid loss: 1289.172939300537 valid correct 39307\n",
            "epoch: 3 training loss: 2422.624045610428 training correct: 168437 valid loss: 1182.513825893402 valid correct 43233\n",
            "epoch: 4 training loss: 2342.0604940652847 training correct: 175260 valid loss: 1164.1532714366913 valid correct 44109\n",
            "epoch: 5 training loss: 2314.455839395523 training correct: 178004 valid loss: 1153.6060922145844 valid correct 44697\n",
            "epoch: 6 training loss: 2297.237192749977 training correct: 179830 valid loss: 1145.3629208803177 valid correct 45172\n",
            "epoch: 7 training loss: 2284.729422688484 training correct: 181250 valid loss: 1140.0101540088654 valid correct 45443\n",
            "epoch: 8 training loss: 2275.1303157806396 training correct: 182379 valid loss: 1135.8057160377502 valid correct 45691\n",
            "epoch: 9 training loss: 2267.7784662246704 training correct: 183207 valid loss: 1133.6211771965027 valid correct 45782\n"
          ]
        }
      ]
    },
    {
      "cell_type": "code",
      "metadata": {
        "colab": {
          "base_uri": "https://localhost:8080/"
        },
        "id": "1LL5KvY4Nlt8",
        "outputId": "15cc7751-c5f2-4e2e-c143-3541a8fc44ea"
      },
      "source": [
        "#TRAINING ACCURACY \n",
        "train_correct/len(train_set)"
      ],
      "execution_count": 28,
      "outputs": [
        {
          "output_type": "execute_result",
          "data": {
            "text/plain": [
              "0.954203125"
            ]
          },
          "metadata": {},
          "execution_count": 28
        }
      ]
    },
    {
      "cell_type": "code",
      "metadata": {
        "colab": {
          "base_uri": "https://localhost:8080/"
        },
        "id": "81GDSYFjNvyF",
        "outputId": "0f91f210-db01-473e-bc6a-732c0071ec78"
      },
      "source": [
        "#VALIDATION ACCURACY\n",
        "valid_correct/len(valid_set)"
      ],
      "execution_count": 29,
      "outputs": [
        {
          "output_type": "execute_result",
          "data": {
            "text/plain": [
              "0.9537916666666667"
            ]
          },
          "metadata": {},
          "execution_count": 29
        }
      ]
    },
    {
      "cell_type": "code",
      "metadata": {
        "id": "sk_t1DiHN1Il"
      },
      "source": [
        "#PRINT ON TENSORBOARD\n",
        "!kill 102\n",
        "%load_ext tensorboard\n",
        "%tensorboard --logdir=runs"
      ],
      "execution_count": null,
      "outputs": []
    },
    {
      "cell_type": "code",
      "metadata": {
        "id": "AH5cQdPAOGSQ"
      },
      "source": [
        "#TEST DATA & TEST LOADER\n",
        "test_data = torchvision.datasets.EMNIST(root = './data/EMNIST', split = 'digits', download = True, train = False, \n",
        "                                   transform=transforms.Compose([transforms.ToTensor()]))\n",
        "test_loader = DataLoader(test_data, batch_size = 64, shuffle = True)\n",
        "test_data = next(iter(test_loader))"
      ],
      "execution_count": 36,
      "outputs": []
    },
    {
      "cell_type": "code",
      "metadata": {
        "colab": {
          "base_uri": "https://localhost:8080/"
        },
        "id": "iMad4tNPPT0M",
        "outputId": "e4279db5-7963-454b-c12d-8f34b99be86c"
      },
      "source": [
        "correct = 0\n",
        "total = 0\n",
        "\n",
        "with torch.no_grad():\n",
        "    for data in test_loader:\n",
        "        images, labels = data\n",
        "        # calculate outputs by running images through the network\n",
        "        preds = model(images)\n",
        "        # the class with the highest energy is what we choose as prediction\n",
        "        _, predicted = torch.max(preds.data, 1)\n",
        "        total += labels.size(0)\n",
        "        correct += (predicted == labels).sum().item()\n",
        "\n",
        "print('Accuracy: %d %%' % (\n",
        "    100 * correct / total))"
      ],
      "execution_count": 37,
      "outputs": [
        {
          "output_type": "stream",
          "name": "stdout",
          "text": [
            "Accuracy: 95 %\n"
          ]
        }
      ]
    }
  ]
}